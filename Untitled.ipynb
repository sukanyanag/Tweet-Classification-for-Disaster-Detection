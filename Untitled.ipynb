{
 "cells": [
  {
   "cell_type": "code",
   "execution_count": 1,
   "id": "0c3ca422-10a5-4bf7-82cd-c53af49bc21d",
   "metadata": {},
   "outputs": [
    {
     "name": "stdout",
     "output_type": "stream",
     "text": [
      "Predictions: [[1]\n",
      " [1]]\n"
     ]
    }
   ],
   "source": [
    "import numpy as np\n",
    "\n",
    "class LogisticRegression:\n",
    "    def __init__(self, learning_rate=0.01, num_iterations=1000):\n",
    "        self.learning_rate = learning_rate\n",
    "        self.num_iterations = num_iterations\n",
    "        self.weights = None\n",
    "        self.bias = None\n",
    "\n",
    "    def sigmoid(self, z):\n",
    "        return 1 / (1 + np.exp(-z))\n",
    "\n",
    "    def initialize_parameters(self, num_features):\n",
    "        self.weights = np.zeros((num_features, 1))\n",
    "        self.bias = 0\n",
    "\n",
    "    def fit(self, X, y):\n",
    "        m, n = X.shape\n",
    "        self.initialize_parameters(n)\n",
    "\n",
    "        for _ in range(self.num_iterations):\n",
    "            # Hypothesis function\n",
    "            z = X @ self.weights + self.bias\n",
    "            y_pred = self.sigmoid(z)\n",
    "\n",
    "            # Gradients\n",
    "            dz = y_pred - y\n",
    "            dw = X.T @ dz / m\n",
    "            db = np.sum(dz) / m\n",
    "\n",
    "            # Update parameters\n",
    "            self.weights -= self.learning_rate * dw\n",
    "            self.bias -= self.learning_rate * db\n",
    "\n",
    "    def predict(self, X):\n",
    "        z = X @ self.weights + self.bias\n",
    "        y_pred = self.sigmoid(z)\n",
    "        return (y_pred >= 0.5).astype(int)\n",
    "\n",
    "# Example usage:\n",
    "X_train = np.array([[1, 2], [2, 3], [3, 4]])\n",
    "y_train = np.array([0, 0, 1]).reshape(-1, 1)\n",
    "\n",
    "model = LogisticRegression(learning_rate=0.01, num_iterations=1000)\n",
    "model.fit(X_train, y_train)\n",
    "\n",
    "X_test = np.array([[4, 5], [5, 6]])\n",
    "predictions = model.predict(X_test)\n",
    "\n",
    "print(\"Predictions:\", predictions)\n"
   ]
  },
  {
   "cell_type": "code",
   "execution_count": null,
   "id": "8b970f6e-a567-42e0-b2bd-8d3a031c78ef",
   "metadata": {},
   "outputs": [],
   "source": []
  }
 ],
 "metadata": {
  "kernelspec": {
   "display_name": "Python 3 (ipykernel)",
   "language": "python",
   "name": "python3"
  },
  "language_info": {
   "codemirror_mode": {
    "name": "ipython",
    "version": 3
   },
   "file_extension": ".py",
   "mimetype": "text/x-python",
   "name": "python",
   "nbconvert_exporter": "python",
   "pygments_lexer": "ipython3",
   "version": "3.10.13"
  }
 },
 "nbformat": 4,
 "nbformat_minor": 5
}
